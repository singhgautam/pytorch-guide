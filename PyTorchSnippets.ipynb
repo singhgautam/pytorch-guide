{
 "cells": [
  {
   "cell_type": "markdown",
   "metadata": {},
   "source": [
    "# Code-Snippets for PyTorch"
   ]
  },
  {
   "cell_type": "markdown",
   "metadata": {},
   "source": [
    "## PyTest\n",
    "Nice functionality to run test-cases on certain modules of your model.\n",
    "Add the following content to a Python file and name it starting with 'test\\_'. \n",
    "Every test function name will also begin with 'test\\_'.\n",
    "\n",
    "#### Parametrize\n",
    "One can parametrize the test cases so they won't need to be 'copied' multiple times. Notice the 3 parameters provided in the decorator and their values as a list of tuples."
   ]
  },
  {
   "cell_type": "code",
   "execution_count": 9,
   "metadata": {
    "collapsed": true
   },
   "outputs": [],
   "source": [
    "import pytest\n",
    "\n",
    "def sum(a, b):\n",
    "    return a + b\n",
    "\n",
    "def pow(base, exponent):\n",
    "    return base ** exponent\n",
    "\n",
    "@pytest.mark.parametrize('a, b, expected',[\n",
    "    (1,2,3),\n",
    "    (4,5,9),\n",
    "    (3,4,7)\n",
    "])\n",
    "def test_sum(a, b, expected):\n",
    "    assert sum(a,b) == expected"
   ]
  },
  {
   "cell_type": "markdown",
   "metadata": {},
   "source": [
    "#### Fixtures\n",
    "Used for executing a step before the testing can commence. Notice the syntax of the decorator below. The function that is decorated with a fixture is something that will be executed whenever that function name is supplied as an argument to a test function. The return value substitutes for the argument of the test function."
   ]
  },
  {
   "cell_type": "code",
   "execution_count": null,
   "metadata": {
    "collapsed": true
   },
   "outputs": [],
   "source": [
    "@pytest.fixture\n",
    "def base():\n",
    "    return 4\n",
    "\n",
    "def test_pow(base):\n",
    "    assert pow(base,1) == 4"
   ]
  },
  {
   "cell_type": "markdown",
   "metadata": {},
   "source": [
    "#### Execution\n",
    "Use the following command in the same directory as the above Python file. The flag '-v' indicates that a verbose output be shown."
   ]
  },
  {
   "cell_type": "code",
   "execution_count": null,
   "metadata": {
    "collapsed": true,
    "scrolled": true
   },
   "outputs": [],
   "source": [
    "!pytest -v"
   ]
  },
  {
   "cell_type": "markdown",
   "metadata": {},
   "source": [
    "## Progress Logging\n",
    "Use one of the following functions to print the progress during training.\n",
    "### Batch Progress Bar"
   ]
  },
  {
   "cell_type": "code",
   "execution_count": 16,
   "metadata": {},
   "outputs": [
    {
     "name": "stdout",
     "output_type": "stream",
     "text": [
      "\r",
      "\tBATCH [================                        ]: 40 (Loss: 334.2300)\n",
      "\r",
      "\tBATCH [==================                      ]: 45 (Loss: 334.2300)\n"
     ]
    }
   ],
   "source": [
    "def batch_progress_bar(batch_num, report_interval, last_loss):\n",
    "    \"\"\"Prints the progress until the next report.\"\"\"\n",
    "    progress = (((batch_num-1.0) % report_interval) + 1.0) / report_interval\n",
    "    fill = int(progress * 40)\n",
    "    print \"\\r\\tBATCH [{}{}]: {} (Loss: {:.4f})\".format(\n",
    "        \"=\" * fill, \n",
    "        \" \" * (40 - fill), \n",
    "        batch_num, \n",
    "        last_loss)\n",
    "\n",
    "batch_progress_bar(40,100,334.23)\n",
    "batch_progress_bar(45,100,334.23)"
   ]
  },
  {
   "cell_type": "markdown",
   "metadata": {},
   "source": [
    "### Epoch Progress Bar"
   ]
  },
  {
   "cell_type": "code",
   "execution_count": 17,
   "metadata": {},
   "outputs": [
    {
     "name": "stdout",
     "output_type": "stream",
     "text": [
      "\r",
      "EPOCH [=========                               ]: 24 (Avg. Training Loss: 334.2300) (Test Loss: 352.4500)\n",
      "\r",
      "EPOCH [============                            ]: 30 (Avg. Training Loss: 334.2300) (Test Loss: 352.4500)\n"
     ]
    }
   ],
   "source": [
    "def epoch_progress_bar(epoch_num, total_epochs, train_loss, test_loss):\n",
    "    \"\"\"Prints the progress until the next report.\"\"\"\n",
    "    progress = (((epoch_num-1.0) % total_epochs) + 1.0) / total_epochs\n",
    "    fill = int(progress * 40)\n",
    "    print \"\\rEPOCH [{}{}]: {} (Avg. Training Loss: {:.4f}) (Test Loss: {:.4f})\".format(\n",
    "        \"=\" * fill, \n",
    "        \" \" * (40 - fill), \n",
    "        epoch_num, \n",
    "        train_loss,\n",
    "        test_loss\n",
    "    )\n",
    "\n",
    "epoch_progress_bar(24,100,334.23,352.45)\n",
    "epoch_progress_bar(30,100,334.23,352.45)"
   ]
  },
  {
   "cell_type": "markdown",
   "metadata": {},
   "source": [
    "### Saving"
   ]
  },
  {
   "cell_type": "code",
   "execution_count": null,
   "metadata": {
    "collapsed": true
   },
   "outputs": [],
   "source": [
    "def save_checkpoint_for_batch(checkpoint_path,\n",
    "                              model,\n",
    "                              name,\n",
    "                              seed,\n",
    "                              epoch_num,\n",
    "                              batch_num,\n",
    "                              losses,\n",
    "                              costs,\n",
    "                              seq_lengths):\n",
    "    basename = \"{}/{}-{}-epoch-{}-batch-{}\".format(checkpoint_path, name, seed, epoch_num, batch_num)\n",
    "    model_fname = basename + \".model\"\n",
    "    LOGGER.info(\"Saving model checkpoint to: '%s'\", model_fname)\n",
    "    torch.save(model.state_dict(), model_fname)\n",
    "\n",
    "    # Save the training history for batch\n",
    "    train_fname = basename + \".json\"\n",
    "    LOGGER.info(\"Saving model training history to '%s'\", train_fname)\n",
    "    content = {\n",
    "        \"loss\": losses,\n",
    "        \"cost\": costs,\n",
    "        \"seq_lengths\": seq_lengths\n",
    "    }\n",
    "    open(train_fname, 'wt').write(json.dumps(content))"
   ]
  }
 ],
 "metadata": {
  "kernelspec": {
   "display_name": "Python 2",
   "language": "python",
   "name": "python2"
  },
  "language_info": {
   "codemirror_mode": {
    "name": "ipython",
    "version": 2
   },
   "file_extension": ".py",
   "mimetype": "text/x-python",
   "name": "python",
   "nbconvert_exporter": "python",
   "pygments_lexer": "ipython2",
   "version": "2.7.14"
  }
 },
 "nbformat": 4,
 "nbformat_minor": 2
}
