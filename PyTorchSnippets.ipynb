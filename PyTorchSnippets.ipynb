{
 "cells": [
  {
   "cell_type": "markdown",
   "metadata": {},
   "source": [
    "# Important Code-Snippets for PyTorch"
   ]
  },
  {
   "cell_type": "markdown",
   "metadata": {},
   "source": [
    "### PyTest\n",
    "\n",
    "\n",
    "Add the following content to a Python file and name it starting with 'test_'.\n",
    "Notice the 3 parameters provided in the decorator and their values as a list of tuples."
   ]
  },
  {
   "cell_type": "code",
   "execution_count": 9,
   "metadata": {
    "collapsed": true
   },
   "outputs": [],
   "source": [
    "import pytest\n",
    "\n",
    "def sum(a, b):\n",
    "    return a + b\n",
    "\n",
    "@pytest.mark.parametrize('a, b, expected',[\n",
    "    (1,2,3),\n",
    "    (4,5,9),\n",
    "    (3,4,7)\n",
    "])\n",
    "def test_sum(a, b, expected):\n",
    "    assert sum(a,b) == expected"
   ]
  },
  {
   "cell_type": "markdown",
   "metadata": {},
   "source": [
    "Use the following command in the same directory as the above Python file. The flag '-v' indicates that a verbose output be shown."
   ]
  },
  {
   "cell_type": "code",
   "execution_count": null,
   "metadata": {
    "scrolled": true
   },
   "outputs": [],
   "source": [
    "!pytest -v"
   ]
  },
  {
   "cell_type": "markdown",
   "metadata": {},
   "source": [
    "### Return time in milliseconds"
   ]
  },
  {
   "cell_type": "code",
   "execution_count": 7,
   "metadata": {},
   "outputs": [
    {
     "data": {
      "text/plain": [
       "1529660793763.8198"
      ]
     },
     "execution_count": 7,
     "metadata": {},
     "output_type": "execute_result"
    }
   ],
   "source": [
    "import time\n",
    "\n",
    "def get_ms():\n",
    "    \"\"\"Returns the current time in miliseconds.\"\"\"\n",
    "    return time.time() * 1000\n",
    "\n",
    "get_ms()"
   ]
  }
 ],
 "metadata": {
  "kernelspec": {
   "display_name": "Python 2",
   "language": "python",
   "name": "python2"
  },
  "language_info": {
   "codemirror_mode": {
    "name": "ipython",
    "version": 2
   },
   "file_extension": ".py",
   "mimetype": "text/x-python",
   "name": "python",
   "nbconvert_exporter": "python",
   "pygments_lexer": "ipython2",
   "version": "2.7.14"
  }
 },
 "nbformat": 4,
 "nbformat_minor": 2
}
